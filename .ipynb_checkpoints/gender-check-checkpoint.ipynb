{
 "cells": [
  {
   "cell_type": "code",
   "execution_count": 1,
   "metadata": {},
   "outputs": [],
   "source": [
    "# Include the dependent modules\n",
    "import tensorflow as tf\n",
    "from tensorflow import keras\n",
    "\n",
    "import numpy as np\n",
    "import pandas as pd\n",
    "\n",
    "import os"
   ]
  },
  {
   "cell_type": "code",
   "execution_count": 3,
   "metadata": {},
   "outputs": [],
   "source": [
    "# parameter declaration\n",
    "maxlen = 30\n",
    "labels = 2"
   ]
  },
  {
   "cell_type": "code",
   "execution_count": 4,
   "metadata": {},
   "outputs": [],
   "source": [
    "input = pd.read_csv(\"gender_data.csv\", header=None)\n",
    "input.columns = [\"name\", \"male_or_female\"]\n",
    "input['namelen'] = [ len(str(i))  for i in input['name']]"
   ]
  },
  {
   "cell_type": "code",
   "execution_count": 5,
   "metadata": {},
   "outputs": [
    {
     "data": {
      "text/plain": [
       "15290"
      ]
     },
     "execution_count": 5,
     "metadata": {},
     "output_type": "execute_result"
    }
   ],
   "source": [
    "len(input['namelen'])"
   ]
  },
  {
   "cell_type": "code",
   "execution_count": 6,
   "metadata": {},
   "outputs": [],
   "source": [
    "actualInput = input[(input['namelen'] >= 2)]"
   ]
  },
  {
   "cell_type": "code",
   "execution_count": 7,
   "metadata": {},
   "outputs": [
    {
     "data": {
      "text/plain": [
       "(15226, 15290)"
      ]
     },
     "execution_count": 7,
     "metadata": {},
     "output_type": "execute_result"
    }
   ],
   "source": [
    "len(actualInput), len(input)"
   ]
  },
  {
   "cell_type": "code",
   "execution_count": 8,
   "metadata": {},
   "outputs": [],
   "source": [
    "removedName = input[(input['namelen'] < 2)]"
   ]
  },
  {
   "cell_type": "code",
   "execution_count": 9,
   "metadata": {},
   "outputs": [
    {
     "data": {
      "text/plain": [
       "male_or_female\n",
       "f    6705\n",
       "m    8475\n",
       "Name: name, dtype: int64"
      ]
     },
     "execution_count": 9,
     "metadata": {},
     "output_type": "execute_result"
    }
   ],
   "source": [
    "actualInput.groupby('male_or_female')['name'].count()"
   ]
  },
  {
   "cell_type": "code",
   "execution_count": 10,
   "metadata": {},
   "outputs": [],
   "source": [
    "names = input['name']\n",
    "gender = input['male_or_female']\n",
    "vocab = set(' '.join([str(i) for i in names ]))\n",
    "vocab.add('END')\n",
    "lenOfVocab = len(vocab)"
   ]
  },
  {
   "cell_type": "code",
   "execution_count": 11,
   "metadata": {},
   "outputs": [
    {
     "name": "stdout",
     "output_type": "stream",
     "text": [
      "{'e', '4', 'x', '9', 'b', 'p', '.', 'q', '7', 'd', '6', '8', 'z', 'w', 'r', 'k', 'y', '3', 'j', 'n', 'c', 'g', ' ', 'l', 'u', '1', 't', 'a', '0', 'm', '5', 'f', '2', 'o', 'END', 'i', 'v', 's', 'h'}\n",
      "Length of vocab is  39\n",
      "Lenght of input is  15226\n"
     ]
    }
   ],
   "source": [
    "print(vocab)\n",
    "print('Length of vocab is ', lenOfVocab)\n",
    "print('Lenght of input is ', len(actualInput))"
   ]
  },
  {
   "cell_type": "code",
   "execution_count": 12,
   "metadata": {},
   "outputs": [],
   "source": [
    "charIndex = dict((c, i) for i, c in enumerate(vocab))"
   ]
  },
  {
   "cell_type": "code",
   "execution_count": 14,
   "metadata": {},
   "outputs": [
    {
     "name": "stdout",
     "output_type": "stream",
     "text": [
      "{'e': 0, '4': 1, 'x': 2, '9': 3, 'b': 4, 'p': 5, '.': 6, 'q': 7, '7': 8, 'd': 9, '6': 10, '8': 11, 'z': 12, 'w': 13, 'r': 14, 'k': 15, 'y': 16, '3': 17, 'j': 18, 'n': 19, 'c': 20, 'g': 21, ' ': 22, 'l': 23, 'u': 24, '1': 25, 't': 26, 'a': 27, '0': 28, 'm': 29, '5': 30, 'f': 31, '2': 32, 'o': 33, 'END': 34, 'i': 35, 'v': 36, 's': 37, 'h': 38}\n"
     ]
    }
   ],
   "source": [
    "print(charIndex)"
   ]
  },
  {
   "cell_type": "code",
   "execution_count": 15,
   "metadata": {},
   "outputs": [],
   "source": [
    "# train test split\n",
    "msk = np.random.rand(len(actualInput)) < 0.8\n",
    "train = actualInput[msk]\n",
    "test = actualInput[~msk]"
   ]
  },
  {
   "cell_type": "code",
   "execution_count": 18,
   "metadata": {},
   "outputs": [],
   "source": [
    "train_X = []\n",
    "trunc_train_name = [str(i)[0:30] for i in train.name]"
   ]
  },
  {
   "cell_type": "code",
   "execution_count": 19,
   "metadata": {},
   "outputs": [
    {
     "name": "stdout",
     "output_type": "stream",
     "text": [
      "12196\n"
     ]
    }
   ],
   "source": [
    "print(len(trunc_train_name))"
   ]
  },
  {
   "cell_type": "code",
   "execution_count": 20,
   "metadata": {},
   "outputs": [],
   "source": [
    "for i in trunc_train_name:\n",
    "    tmp = [charIndex[j] for j in str(i)]\n",
    "    for k in range(0,maxlen - len(str(i))):\n",
    "        tmp.append(charIndex[\"END\"])\n",
    "    train_X.append(tmp)"
   ]
  },
  {
   "cell_type": "code",
   "execution_count": 21,
   "metadata": {},
   "outputs": [
    {
     "data": {
      "text/plain": [
       "(12196, 30)"
      ]
     },
     "execution_count": 21,
     "metadata": {},
     "output_type": "execute_result"
    }
   ],
   "source": [
    "np.asarray(train_X).shape"
   ]
  },
  {
   "cell_type": "code",
   "execution_count": 22,
   "metadata": {},
   "outputs": [],
   "source": [
    "def setFlag(i):\n",
    "    temp = np.zeros(39)\n",
    "    temp[i] = 1\n",
    "    return temp"
   ]
  },
  {
   "cell_type": "code",
   "execution_count": 23,
   "metadata": {},
   "outputs": [
    {
     "data": {
      "text/plain": [
       "array([0., 0., 0., 1., 0., 0., 0., 0., 0., 0., 0., 0., 0., 0., 0., 0., 0.,\n",
       "       0., 0., 0., 0., 0., 0., 0., 0., 0., 0., 0., 0., 0., 0., 0., 0., 0.,\n",
       "       0., 0., 0., 0., 0.])"
      ]
     },
     "execution_count": 23,
     "metadata": {},
     "output_type": "execute_result"
    }
   ],
   "source": [
    "setFlag(3)"
   ]
  },
  {
   "cell_type": "code",
   "execution_count": 24,
   "metadata": {},
   "outputs": [],
   "source": [
    "train_X = []\n",
    "train_Y = []\n",
    "trunc_train_name = [str(i)[0:maxlen] for i in train.name]\n",
    "\n",
    "for i in trunc_train_name:\n",
    "    tmp = [setFlag(charIndex[j]) for j in str(i)]\n",
    "    for k in range(0, maxlen - len(str(i))):\n",
    "        tmp.append(setFlag(charIndex[\"END\"]))\n",
    "    train_X.append(tmp)\n",
    "    \n",
    "for i in train.male_or_female:\n",
    "    if i == 'm':\n",
    "        train_Y.append([1, 0])\n",
    "    else:\n",
    "        train_Y.append([0, 1])\n"
   ]
  },
  {
   "cell_type": "code",
   "execution_count": 25,
   "metadata": {},
   "outputs": [
    {
     "data": {
      "text/plain": [
       "(12196, 30, 39)"
      ]
     },
     "execution_count": 25,
     "metadata": {},
     "output_type": "execute_result"
    }
   ],
   "source": [
    "np.asarray(train_X).shape"
   ]
  },
  {
   "cell_type": "code",
   "execution_count": 26,
   "metadata": {},
   "outputs": [
    {
     "data": {
      "text/plain": [
       "(12196, 2)"
      ]
     },
     "execution_count": 26,
     "metadata": {},
     "output_type": "execute_result"
    }
   ],
   "source": [
    "np.asarray(train_Y).shape"
   ]
  },
  {
   "cell_type": "code",
   "execution_count": 27,
   "metadata": {},
   "outputs": [],
   "source": [
    "# Build the model: 2 stacked LSTM\n",
    "model = keras.Sequential()\n",
    "model.add(keras.layers.LSTM(512, return_sequences=True, input_shape=(maxlen, lenOfVocab)))\n",
    "model.add(keras.layers.Dropout(0.2))\n",
    "model.add(keras.layers.LSTM(512, return_sequences=False))\n",
    "model.add(keras.layers.Dropout(0.2))\n",
    "model.add(keras.layers.Dense(2))\n",
    "model.add(keras.layers.Activation('softmax'))"
   ]
  },
  {
   "cell_type": "code",
   "execution_count": 28,
   "metadata": {},
   "outputs": [
    {
     "ename": "ValueError",
     "evalue": "('Could not interpret optimizer identifier:', <class 'tensorflow.python.training.adam.AdamOptimizer'>)",
     "output_type": "error",
     "traceback": [
      "\u001b[0;31m---------------------------------------------------------------------------\u001b[0m",
      "\u001b[0;31mValueError\u001b[0m                                Traceback (most recent call last)",
      "\u001b[0;32m<ipython-input-28-52692701d15d>\u001b[0m in \u001b[0;36m<module>\u001b[0;34m\u001b[0m\n\u001b[1;32m      2\u001b[0m model.compile(loss='categorical_crossentropy',\n\u001b[1;32m      3\u001b[0m              \u001b[0moptimizer\u001b[0m\u001b[0;34m=\u001b[0m\u001b[0mtf\u001b[0m\u001b[0;34m.\u001b[0m\u001b[0mtrain\u001b[0m\u001b[0;34m.\u001b[0m\u001b[0mAdamOptimizer\u001b[0m\u001b[0;34m,\u001b[0m\u001b[0;34m\u001b[0m\u001b[0;34m\u001b[0m\u001b[0m\n\u001b[0;32m----> 4\u001b[0;31m              metrics=['accuracy'])\n\u001b[0m",
      "\u001b[0;32m~/miniconda3/envs/karuppu/lib/python3.6/site-packages/tensorflow/python/training/checkpointable/base.py\u001b[0m in \u001b[0;36m_method_wrapper\u001b[0;34m(self, *args, **kwargs)\u001b[0m\n\u001b[1;32m    472\u001b[0m     \u001b[0mself\u001b[0m\u001b[0;34m.\u001b[0m\u001b[0m_setattr_tracking\u001b[0m \u001b[0;34m=\u001b[0m \u001b[0;32mFalse\u001b[0m  \u001b[0;31m# pylint: disable=protected-access\u001b[0m\u001b[0;34m\u001b[0m\u001b[0;34m\u001b[0m\u001b[0m\n\u001b[1;32m    473\u001b[0m     \u001b[0;32mtry\u001b[0m\u001b[0;34m:\u001b[0m\u001b[0;34m\u001b[0m\u001b[0;34m\u001b[0m\u001b[0m\n\u001b[0;32m--> 474\u001b[0;31m       \u001b[0mmethod\u001b[0m\u001b[0;34m(\u001b[0m\u001b[0mself\u001b[0m\u001b[0;34m,\u001b[0m \u001b[0;34m*\u001b[0m\u001b[0margs\u001b[0m\u001b[0;34m,\u001b[0m \u001b[0;34m**\u001b[0m\u001b[0mkwargs\u001b[0m\u001b[0;34m)\u001b[0m\u001b[0;34m\u001b[0m\u001b[0;34m\u001b[0m\u001b[0m\n\u001b[0m\u001b[1;32m    475\u001b[0m     \u001b[0;32mfinally\u001b[0m\u001b[0;34m:\u001b[0m\u001b[0;34m\u001b[0m\u001b[0;34m\u001b[0m\u001b[0m\n\u001b[1;32m    476\u001b[0m       \u001b[0mself\u001b[0m\u001b[0;34m.\u001b[0m\u001b[0m_setattr_tracking\u001b[0m \u001b[0;34m=\u001b[0m \u001b[0mprevious_value\u001b[0m  \u001b[0;31m# pylint: disable=protected-access\u001b[0m\u001b[0;34m\u001b[0m\u001b[0;34m\u001b[0m\u001b[0m\n",
      "\u001b[0;32m~/miniconda3/envs/karuppu/lib/python3.6/site-packages/tensorflow/python/keras/engine/training.py\u001b[0m in \u001b[0;36mcompile\u001b[0;34m(self, optimizer, loss, metrics, loss_weights, sample_weight_mode, weighted_metrics, target_tensors, distribute, **kwargs)\u001b[0m\n\u001b[1;32m    410\u001b[0m           'a %s' % type(optimizer))\n\u001b[1;32m    411\u001b[0m \u001b[0;34m\u001b[0m\u001b[0m\n\u001b[0;32m--> 412\u001b[0;31m     \u001b[0mself\u001b[0m\u001b[0;34m.\u001b[0m\u001b[0moptimizer\u001b[0m \u001b[0;34m=\u001b[0m \u001b[0moptimizers\u001b[0m\u001b[0;34m.\u001b[0m\u001b[0mget\u001b[0m\u001b[0;34m(\u001b[0m\u001b[0moptimizer\u001b[0m\u001b[0;34m)\u001b[0m\u001b[0;34m\u001b[0m\u001b[0;34m\u001b[0m\u001b[0m\n\u001b[0m\u001b[1;32m    413\u001b[0m     \u001b[0;31m# We've disabled automatic dependency tracking for this method, but do want\u001b[0m\u001b[0;34m\u001b[0m\u001b[0;34m\u001b[0m\u001b[0;34m\u001b[0m\u001b[0m\n\u001b[1;32m    414\u001b[0m     \u001b[0;31m# to add a checkpoint dependency on the optimizer if it's checkpointable.\u001b[0m\u001b[0;34m\u001b[0m\u001b[0;34m\u001b[0m\u001b[0;34m\u001b[0m\u001b[0m\n",
      "\u001b[0;32m~/miniconda3/envs/karuppu/lib/python3.6/site-packages/tensorflow/python/keras/optimizers.py\u001b[0m in \u001b[0;36mget\u001b[0;34m(identifier)\u001b[0m\n\u001b[1;32m    829\u001b[0m     \u001b[0;32mreturn\u001b[0m \u001b[0midentifier\u001b[0m\u001b[0;34m\u001b[0m\u001b[0;34m\u001b[0m\u001b[0m\n\u001b[1;32m    830\u001b[0m   \u001b[0;32melse\u001b[0m\u001b[0;34m:\u001b[0m\u001b[0;34m\u001b[0m\u001b[0;34m\u001b[0m\u001b[0m\n\u001b[0;32m--> 831\u001b[0;31m     \u001b[0;32mraise\u001b[0m \u001b[0mValueError\u001b[0m\u001b[0;34m(\u001b[0m\u001b[0;34m'Could not interpret optimizer identifier:'\u001b[0m\u001b[0;34m,\u001b[0m \u001b[0midentifier\u001b[0m\u001b[0;34m)\u001b[0m\u001b[0;34m\u001b[0m\u001b[0;34m\u001b[0m\u001b[0m\n\u001b[0m",
      "\u001b[0;31mValueError\u001b[0m: ('Could not interpret optimizer identifier:', <class 'tensorflow.python.training.adam.AdamOptimizer'>)"
     ]
    }
   ],
   "source": [
    "# Compile the model\n",
    "model.compile(loss='categorical_crossentropy',\n",
    "             optimizer='adam',\n",
    "             metrics=['accuracy'])"
   ]
  },
  {
   "cell_type": "code",
   "execution_count": 110,
   "metadata": {},
   "outputs": [],
   "source": [
    "test_X = []\n",
    "test_Y = []\n",
    "trunc_test_name = [str(i)[0:maxlen] for i in test.name]\n",
    "\n",
    "for i in trunc_test_name:\n",
    "    tmp = [setFlag(charIndex[j]) for j in str(i)]\n",
    "    for k in range(0, maxlen - len(str(i))):\n",
    "        tmp.append(setFlag(charIndex[\"END\"]))\n",
    "    test_X.append(tmp)\n",
    "\n",
    "for i in test.male_or_female:\n",
    "    if i == 'm':\n",
    "        test_Y.append([1, 0])\n",
    "    else:\n",
    "        test_Y.append([0, 1])\n"
   ]
  },
  {
   "cell_type": "code",
   "execution_count": 93,
   "metadata": {},
   "outputs": [
    {
     "data": {
      "text/plain": [
       "(3075, 30, 39)"
      ]
     },
     "execution_count": 93,
     "metadata": {},
     "output_type": "execute_result"
    }
   ],
   "source": [
    "np.asarray(test_X).shape"
   ]
  },
  {
   "cell_type": "code",
   "execution_count": 111,
   "metadata": {},
   "outputs": [
    {
     "name": "stdout",
     "output_type": "stream",
     "text": [
      "(3075, 30, 39)\n",
      "(3075, 2)\n"
     ]
    }
   ],
   "source": [
    "\n",
    "print(np.asarray(test_X).shape)\n",
    "print(np.asarray(test_Y).shape)"
   ]
  },
  {
   "cell_type": "code",
   "execution_count": 112,
   "metadata": {},
   "outputs": [
    {
     "name": "stdout",
     "output_type": "stream",
     "text": [
      "Train on 12151 samples, validate on 3075 samples\n",
      "Epoch 1/10\n",
      "12151/12151 [==============================] - 143s 12ms/step - loss: 0.6913 - acc: 0.5550 - val_loss: 0.6876 - val_acc: 0.5480\n",
      "Epoch 2/10\n",
      "12151/12151 [==============================] - 116s 10ms/step - loss: 0.6743 - acc: 0.5719 - val_loss: 0.6553 - val_acc: 0.6218\n",
      "Epoch 3/10\n",
      "12151/12151 [==============================] - 109s 9ms/step - loss: 0.6335 - acc: 0.6516 - val_loss: 0.6498 - val_acc: 0.6299\n",
      "Epoch 4/10\n",
      "12151/12151 [==============================] - 108s 9ms/step - loss: 0.6001 - acc: 0.6764 - val_loss: 0.5615 - val_acc: 0.7242\n",
      "Epoch 5/10\n",
      "12151/12151 [==============================] - 107s 9ms/step - loss: 0.5522 - acc: 0.7206 - val_loss: 0.5265 - val_acc: 0.7522\n",
      "Epoch 6/10\n",
      "12151/12151 [==============================] - 107s 9ms/step - loss: 0.5475 - acc: 0.7333 - val_loss: 0.5402 - val_acc: 0.7291\n",
      "Epoch 7/10\n",
      "12151/12151 [==============================] - 108s 9ms/step - loss: 0.5227 - acc: 0.7492 - val_loss: 0.4916 - val_acc: 0.7649\n",
      "Epoch 8/10\n",
      "12151/12151 [==============================] - 109s 9ms/step - loss: 0.4935 - acc: 0.7644 - val_loss: 0.5153 - val_acc: 0.7538\n",
      "Epoch 9/10\n",
      "12151/12151 [==============================] - 111s 9ms/step - loss: 0.4944 - acc: 0.7641 - val_loss: 0.4767 - val_acc: 0.7759\n",
      "Epoch 10/10\n",
      "12151/12151 [==============================] - 115s 9ms/step - loss: 0.4730 - acc: 0.7800 - val_loss: 0.4741 - val_acc: 0.7779\n"
     ]
    },
    {
     "data": {
      "text/plain": [
       "<tensorflow.python.keras.callbacks.History at 0x28cf7af20b8>"
      ]
     },
     "execution_count": 112,
     "metadata": {},
     "output_type": "execute_result"
    }
   ],
   "source": [
    "batch_size=1000\n",
    "model.fit(np.array(train_X), np.array(train_Y),batch_size=batch_size, epochs=10,validation_data=(np.array(test_X), np.array(test_Y)))"
   ]
  },
  {
   "cell_type": "code",
   "execution_count": 114,
   "metadata": {},
   "outputs": [
    {
     "name": "stdout",
     "output_type": "stream",
     "text": [
      "3075/3075 [==============================] - 37s 12ms/step\n",
      "Test score: 0.4741219365596771\n",
      "Test accuracy: 0.7778861788811723\n"
     ]
    }
   ],
   "source": [
    "score, acc = model.evaluate(np.array(test_X), np.array(test_Y))\n",
    "print('Test score:', score)\n",
    "print('Test accuracy:', acc)"
   ]
  },
  {
   "cell_type": "code",
   "execution_count": 116,
   "metadata": {},
   "outputs": [],
   "source": [
    "name = ['anandhan', 'priya', 'chandru', 'sarathi', 'santhya']\n",
    "X = []\n",
    "trunc_name = [i[0:maxlen] for i in name]\n",
    "for i in trunc_name:\n",
    "    tmp = [setFlag(charIndex[j]) for j in str(i)]\n",
    "    for k in range(0, maxlen - len(str(i))):\n",
    "        tmp.append(setFlag(charIndex[\"END\"]))\n",
    "    X.append(tmp)\n",
    "predictions = model.predict(np.asarray(X))\n",
    "           "
   ]
  },
  {
   "cell_type": "code",
   "execution_count": 117,
   "metadata": {},
   "outputs": [
    {
     "data": {
      "text/plain": [
       "array([[0.55781996, 0.44218004],\n",
       "       [0.16773193, 0.83226806],\n",
       "       [0.6681025 , 0.33189753],\n",
       "       [0.15307236, 0.84692764],\n",
       "       [0.4292357 , 0.5707643 ]], dtype=float32)"
      ]
     },
     "execution_count": 117,
     "metadata": {},
     "output_type": "execute_result"
    }
   ],
   "source": [
    "predictions"
   ]
  },
  {
   "cell_type": "code",
   "execution_count": 118,
   "metadata": {},
   "outputs": [
    {
     "name": "stdout",
     "output_type": "stream",
     "text": [
      "Train on 12151 samples, validate on 3075 samples\n",
      "Epoch 1/50\n",
      "12151/12151 [==============================] - 113s 9ms/step - loss: 0.4736 - acc: 0.7788 - val_loss: 0.4716 - val_acc: 0.7704\n",
      "Epoch 2/50\n",
      "12151/12151 [==============================] - 111s 9ms/step - loss: 0.4721 - acc: 0.7764 - val_loss: 0.4615 - val_acc: 0.7870\n",
      "Epoch 3/50\n",
      "12151/12151 [==============================] - 112s 9ms/step - loss: 0.4600 - acc: 0.7880 - val_loss: 0.4768 - val_acc: 0.7815\n",
      "Epoch 4/50\n",
      "12151/12151 [==============================] - 114s 9ms/step - loss: 0.4545 - acc: 0.7901 - val_loss: 0.4625 - val_acc: 0.7883\n",
      "Epoch 5/50\n",
      "12151/12151 [==============================] - 113s 9ms/step - loss: 0.4478 - acc: 0.7947 - val_loss: 0.4680 - val_acc: 0.7841\n",
      "Epoch 6/50\n",
      "12151/12151 [==============================] - 115s 10ms/step - loss: 0.4514 - acc: 0.7965 - val_loss: 0.4428 - val_acc: 0.7997\n",
      "Epoch 7/50\n",
      "12151/12151 [==============================] - 120s 10ms/step - loss: 0.4293 - acc: 0.8055 - val_loss: 0.4489 - val_acc: 0.7967\n",
      "Epoch 8/50\n",
      "12151/12151 [==============================] - 121s 10ms/step - loss: 0.4167 - acc: 0.8161 - val_loss: 0.4109 - val_acc: 0.8127\n",
      "Epoch 9/50\n",
      "12151/12151 [==============================] - 116s 10ms/step - loss: 0.3979 - acc: 0.8260 - val_loss: 0.4141 - val_acc: 0.8143\n",
      "Epoch 10/50\n",
      "12151/12151 [==============================] - 116s 10ms/step - loss: 0.3877 - acc: 0.8307 - val_loss: 0.3913 - val_acc: 0.8325\n",
      "Epoch 11/50\n",
      "12151/12151 [==============================] - 116s 10ms/step - loss: 0.3737 - acc: 0.8391 - val_loss: 0.4017 - val_acc: 0.8159\n",
      "Epoch 12/50\n",
      "12151/12151 [==============================] - 115s 9ms/step - loss: 0.3746 - acc: 0.8382 - val_loss: 0.3605 - val_acc: 0.8556\n",
      "Epoch 13/50\n",
      "12151/12151 [==============================] - 110s 9ms/step - loss: 0.3457 - acc: 0.8591 - val_loss: 0.3763 - val_acc: 0.8501\n",
      "Epoch 14/50\n",
      "12151/12151 [==============================] - 107s 9ms/step - loss: 0.3421 - acc: 0.8605 - val_loss: 0.3667 - val_acc: 0.8423\n",
      "Epoch 15/50\n",
      "12151/12151 [==============================] - 107s 9ms/step - loss: 0.3346 - acc: 0.8603 - val_loss: 0.3443 - val_acc: 0.8579\n",
      "Epoch 16/50\n",
      "12151/12151 [==============================] - 106s 9ms/step - loss: 0.3263 - acc: 0.8648 - val_loss: 0.3474 - val_acc: 0.8569\n",
      "Epoch 17/50\n",
      "12151/12151 [==============================] - 108s 9ms/step - loss: 0.3242 - acc: 0.8672 - val_loss: 0.3452 - val_acc: 0.8494\n",
      "Epoch 18/50\n",
      "12151/12151 [==============================] - 107s 9ms/step - loss: 0.3150 - acc: 0.8735 - val_loss: 0.3342 - val_acc: 0.8611\n",
      "Epoch 19/50\n",
      "12151/12151 [==============================] - 113s 9ms/step - loss: 0.3094 - acc: 0.8755 - val_loss: 0.3264 - val_acc: 0.8670\n",
      "Epoch 20/50\n",
      "12151/12151 [==============================] - 110s 9ms/step - loss: 0.2981 - acc: 0.8812 - val_loss: 0.3359 - val_acc: 0.8663\n",
      "Epoch 21/50\n",
      "12151/12151 [==============================] - 108s 9ms/step - loss: 0.3031 - acc: 0.8793 - val_loss: 0.3365 - val_acc: 0.8644\n",
      "Epoch 22/50\n",
      "12151/12151 [==============================] - 108s 9ms/step - loss: 0.3104 - acc: 0.8722 - val_loss: 0.3326 - val_acc: 0.8628\n",
      "Epoch 23/50\n",
      "12151/12151 [==============================] - 107s 9ms/step - loss: 0.2946 - acc: 0.8826 - val_loss: 0.3162 - val_acc: 0.8706\n",
      "Epoch 24/50\n",
      "12151/12151 [==============================] - 107s 9ms/step - loss: 0.2912 - acc: 0.8837 - val_loss: 0.3428 - val_acc: 0.8598\n",
      "Epoch 25/50\n",
      "12151/12151 [==============================] - 108s 9ms/step - loss: 0.2867 - acc: 0.8843 - val_loss: 0.3047 - val_acc: 0.8800\n",
      "Epoch 26/50\n",
      "12151/12151 [==============================] - 107s 9ms/step - loss: 0.2756 - acc: 0.8928 - val_loss: 0.3225 - val_acc: 0.8715\n",
      "Epoch 27/50\n",
      "12151/12151 [==============================] - 107s 9ms/step - loss: 0.2719 - acc: 0.8910 - val_loss: 0.3063 - val_acc: 0.8767\n",
      "Epoch 28/50\n",
      "12151/12151 [==============================] - 107s 9ms/step - loss: 0.2734 - acc: 0.8915 - val_loss: 0.3114 - val_acc: 0.8728\n",
      "Epoch 29/50\n",
      "12151/12151 [==============================] - 106s 9ms/step - loss: 0.2736 - acc: 0.8905 - val_loss: 0.3171 - val_acc: 0.8709\n",
      "Epoch 30/50\n",
      "12151/12151 [==============================] - 107s 9ms/step - loss: 0.2655 - acc: 0.8967 - val_loss: 0.3732 - val_acc: 0.8507\n",
      "Epoch 31/50\n",
      "12151/12151 [==============================] - 107s 9ms/step - loss: 0.2797 - acc: 0.8866 - val_loss: 0.3080 - val_acc: 0.8715\n",
      "Epoch 32/50\n",
      "12151/12151 [==============================] - 107s 9ms/step - loss: 0.2630 - acc: 0.8955 - val_loss: 0.3024 - val_acc: 0.8777\n",
      "Epoch 33/50\n",
      "12151/12151 [==============================] - 107s 9ms/step - loss: 0.2546 - acc: 0.9025 - val_loss: 0.3241 - val_acc: 0.8624\n",
      "Epoch 34/50\n",
      "12151/12151 [==============================] - 107s 9ms/step - loss: 0.2512 - acc: 0.9007 - val_loss: 0.2958 - val_acc: 0.8807\n",
      "Epoch 35/50\n",
      "12151/12151 [==============================] - 107s 9ms/step - loss: 0.2465 - acc: 0.9055 - val_loss: 0.2956 - val_acc: 0.8803\n",
      "Epoch 36/50\n",
      "12151/12151 [==============================] - 107s 9ms/step - loss: 0.2446 - acc: 0.9060 - val_loss: 0.3168 - val_acc: 0.8745\n",
      "Epoch 37/50\n",
      "12151/12151 [==============================] - 1565s 129ms/step - loss: 0.2464 - acc: 0.9041 - val_loss: 0.2968 - val_acc: 0.8833\n",
      "Epoch 38/50\n",
      "12151/12151 [==============================] - 124s 10ms/step - loss: 0.2508 - acc: 0.9026 - val_loss: 0.3173 - val_acc: 0.8735\n",
      "Epoch 39/50\n",
      "12151/12151 [==============================] - 121s 10ms/step - loss: 0.2436 - acc: 0.9056 - val_loss: 0.3072 - val_acc: 0.8761\n",
      "Epoch 40/50\n",
      "12151/12151 [==============================] - 112s 9ms/step - loss: 0.2338 - acc: 0.9100 - val_loss: 0.3032 - val_acc: 0.8793\n",
      "Epoch 41/50\n",
      "12151/12151 [==============================] - 113s 9ms/step - loss: 0.2255 - acc: 0.9147 - val_loss: 0.2989 - val_acc: 0.8839\n",
      "Epoch 42/50\n",
      "12151/12151 [==============================] - 120s 10ms/step - loss: 0.2178 - acc: 0.9195 - val_loss: 0.2863 - val_acc: 0.8868\n",
      "Epoch 43/50\n",
      "12151/12151 [==============================] - 118s 10ms/step - loss: 0.2215 - acc: 0.9153 - val_loss: 0.2970 - val_acc: 0.8813\n",
      "Epoch 44/50\n",
      "12151/12151 [==============================] - 115s 9ms/step - loss: 0.2142 - acc: 0.9179 - val_loss: 0.3197 - val_acc: 0.8777\n",
      "Epoch 45/50\n",
      "12151/12151 [==============================] - 118s 10ms/step - loss: 0.2194 - acc: 0.9178 - val_loss: 0.3161 - val_acc: 0.8816\n",
      "Epoch 46/50\n",
      "12151/12151 [==============================] - 113s 9ms/step - loss: 0.2130 - acc: 0.9171 - val_loss: 0.3288 - val_acc: 0.8820\n",
      "Epoch 47/50\n",
      "12151/12151 [==============================] - 112s 9ms/step - loss: 0.2122 - acc: 0.9209 - val_loss: 0.3263 - val_acc: 0.8807\n",
      "Epoch 48/50\n",
      "12151/12151 [==============================] - 111s 9ms/step - loss: 0.2136 - acc: 0.9184 - val_loss: 0.2982 - val_acc: 0.8888\n",
      "Epoch 49/50\n",
      "12151/12151 [==============================] - 111s 9ms/step - loss: 0.2042 - acc: 0.9223 - val_loss: 0.3035 - val_acc: 0.8777\n",
      "Epoch 50/50\n",
      "12151/12151 [==============================] - 112s 9ms/step - loss: 0.1949 - acc: 0.9256 - val_loss: 0.3308 - val_acc: 0.8761\n"
     ]
    },
    {
     "data": {
      "text/plain": [
       "<tensorflow.python.keras.callbacks.History at 0x28d000a3f28>"
      ]
     },
     "execution_count": 118,
     "metadata": {},
     "output_type": "execute_result"
    }
   ],
   "source": [
    "batch_size = 1000\n",
    "model.fit(np.array(train_X), np.array(train_Y), batch_size=batch_size, epochs=50, validation_data=(np.array(test_X), np.array(test_Y)) ) "
   ]
  },
  {
   "cell_type": "code",
   "execution_count": 121,
   "metadata": {},
   "outputs": [
    {
     "name": "stdout",
     "output_type": "stream",
     "text": [
      "3075/3075 [==============================] - 35s 11ms/step\n",
      "Test score: 0.33080999669217603\n",
      "Test accuracy: 0.8760975609756098\n"
     ]
    }
   ],
   "source": [
    "score, acc = model.evaluate(np.array(test_X), np.array(test_Y))\n",
    "print('Test score:', score)\n",
    "print('Test accuracy:', acc)"
   ]
  },
  {
   "cell_type": "code",
   "execution_count": 123,
   "metadata": {},
   "outputs": [
    {
     "data": {
      "text/plain": [
       "array([[0.06173271, 0.9382673 ],\n",
       "       [0.07089219, 0.92910784],\n",
       "       [0.83835894, 0.16164106],\n",
       "       [0.10633069, 0.89366925],\n",
       "       [0.00512611, 0.9948738 ],\n",
       "       [0.8372167 , 0.16278337],\n",
       "       [0.01435564, 0.98564434],\n",
       "       [0.11694797, 0.8830521 ],\n",
       "       [0.01042234, 0.98957765]], dtype=float32)"
      ]
     },
     "execution_count": 123,
     "metadata": {},
     "output_type": "execute_result"
    }
   ],
   "source": [
    "\n",
    "name=[\"sandhya\",\"jaspreet\",\"rajesh\",\"kaveri\",\"aditi deepak\",\"arihant\",\"sasikala\",\"aditi\",\"ragini rajaram\"]\n",
    "X=[]\n",
    "trunc_name = [i[0:maxlen] for i in name]\n",
    "for i in trunc_name:\n",
    "    tmp = [setFlag(charIndex[j]) for j in str(i)]\n",
    "    for k in range(0,maxlen - len(str(i))):\n",
    "        tmp.append(setFlag(charIndex[\"END\"]))\n",
    "    X.append(tmp)\n",
    "pred=model.predict(np.asarray(X))\n",
    "pred"
   ]
  },
  {
   "cell_type": "code",
   "execution_count": 124,
   "metadata": {},
   "outputs": [
    {
     "data": {
      "text/plain": [
       "array([[0.16288146, 0.8371185 ],\n",
       "       [0.00710704, 0.9928929 ],\n",
       "       [0.12112048, 0.87887955]], dtype=float32)"
      ]
     },
     "execution_count": 124,
     "metadata": {},
     "output_type": "execute_result"
    }
   ],
   "source": [
    "\n",
    "name=[\"abhi\",\"abhi deepak\",\"mr. abhi\"]\n",
    "X=[]\n",
    "trunc_name = [i[0:maxlen] for i in name]\n",
    "for i in trunc_name:\n",
    "    tmp = [setFlag(charIndex[j]) for j in str(i)]\n",
    "    for k in range(0,maxlen - len(str(i))):\n",
    "        tmp.append(setFlag(charIndex[\"END\"]))\n",
    "    X.append(tmp)\n",
    "pred=model.predict(np.asarray(X))\n",
    "pred"
   ]
  },
  {
   "cell_type": "code",
   "execution_count": 125,
   "metadata": {},
   "outputs": [
    {
     "data": {
      "text/plain": [
       "array([[0.01100833, 0.98899174],\n",
       "       [0.60809803, 0.39190197],\n",
       "       [0.00457609, 0.99542385]], dtype=float32)"
      ]
     },
     "execution_count": 125,
     "metadata": {},
     "output_type": "execute_result"
    }
   ],
   "source": [
    "name=[\"rajini\",\"rajinikanth\",\"mr. rajini\"]\n",
    "X=[]\n",
    "trunc_name = [i[0:maxlen] for i in name]\n",
    "for i in trunc_name:\n",
    "    tmp = [setFlag(charIndex[j]) for j in str(i)]\n",
    "    for k in range(0,maxlen - len(str(i))):\n",
    "        tmp.append(setFlag(charIndex[\"END\"]))\n",
    "    X.append(tmp)\n",
    "pred=model.predict(np.asarray(X))\n",
    "pred"
   ]
  },
  {
   "cell_type": "code",
   "execution_count": 129,
   "metadata": {},
   "outputs": [],
   "source": [
    "#save our model and data\n",
    "# model.save_weights('gender_model',overwrite=True)\n",
    "model.save('gender_model',overwrite=True)\n",
    "# train.to_csv(\"train_split.csv\")\n",
    "# test.to_csv(\"test_split.csv\")"
   ]
  },
  {
   "cell_type": "code",
   "execution_count": 130,
   "metadata": {},
   "outputs": [],
   "source": [
    "train.to_csv(\"train_split.csv\")\n",
    "test.to_csv(\"test_split.csv\")"
   ]
  },
  {
   "cell_type": "code",
   "execution_count": 133,
   "metadata": {},
   "outputs": [],
   "source": [
    "evals = model.predict(np.array(test_X))\n",
    "prob_m = [i[0] for i in evals]"
   ]
  },
  {
   "cell_type": "code",
   "execution_count": 136,
   "metadata": {},
   "outputs": [],
   "source": [
    "out = pd.DataFrame(prob_m)\n",
    "out['name'] = test.name.reset_index()['name']\n",
    "out['male_or_female']=test.male_or_female.reset_index()['male_or_female']"
   ]
  },
  {
   "cell_type": "code",
   "execution_count": 137,
   "metadata": {},
   "outputs": [],
   "source": [
    "out.head(10)\n",
    "out.columns = ['prob_m','name','actual']\n",
    "out.head(10)\n",
    "out.to_csv(\"gender_pred_out.csv\")"
   ]
  }
 ],
 "metadata": {
  "kernelspec": {
   "display_name": "Python 3",
   "language": "python",
   "name": "python3"
  },
  "language_info": {
   "codemirror_mode": {
    "name": "ipython",
    "version": 3
   },
   "file_extension": ".py",
   "mimetype": "text/x-python",
   "name": "python",
   "nbconvert_exporter": "python",
   "pygments_lexer": "ipython3",
   "version": "3.6.8"
  }
 },
 "nbformat": 4,
 "nbformat_minor": 2
}
