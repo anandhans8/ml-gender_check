{
 "cells": [
  {
   "cell_type": "code",
   "execution_count": 1,
   "metadata": {},
   "outputs": [],
   "source": [
    "# Include the dependent modules\n",
    "import tensorflow as tf\n",
    "from tensorflow import keras\n",
    "\n",
    "import numpy as np\n",
    "import pandas as pd\n",
    "\n",
    "import os"
   ]
  },
  {
   "cell_type": "code",
   "execution_count": 3,
   "metadata": {},
   "outputs": [],
   "source": [
    "# parameter declaration\n",
    "maxlen = 30\n",
    "labels = 2"
   ]
  },
  {
   "cell_type": "code",
   "execution_count": 4,
   "metadata": {},
   "outputs": [],
   "source": [
    "input = pd.read_csv(\"gender_data.csv\", header=None)\n",
    "input.columns = [\"name\", \"male_or_female\"]\n",
    "input['namelen'] = [ len(str(i))  for i in input['name']]"
   ]
  },
  {
   "cell_type": "code",
   "execution_count": 5,
   "metadata": {},
   "outputs": [
    {
     "data": {
      "text/plain": [
       "15290"
      ]
     },
     "execution_count": 5,
     "metadata": {},
     "output_type": "execute_result"
    }
   ],
   "source": [
    "len(input['namelen'])"
   ]
  },
  {
   "cell_type": "code",
   "execution_count": 6,
   "metadata": {},
   "outputs": [],
   "source": [
    "actualInput = input[(input['namelen'] >= 2)]"
   ]
  },
  {
   "cell_type": "code",
   "execution_count": 7,
   "metadata": {},
   "outputs": [
    {
     "data": {
      "text/plain": [
       "(15226, 15290)"
      ]
     },
     "execution_count": 7,
     "metadata": {},
     "output_type": "execute_result"
    }
   ],
   "source": [
    "len(actualInput), len(input)"
   ]
  },
  {
   "cell_type": "code",
   "execution_count": 8,
   "metadata": {},
   "outputs": [],
   "source": [
    "removedName = input[(input['namelen'] < 2)]"
   ]
  },
  {
   "cell_type": "code",
   "execution_count": 9,
   "metadata": {},
   "outputs": [
    {
     "data": {
      "text/plain": [
       "male_or_female\n",
       "f    6705\n",
       "m    8475\n",
       "Name: name, dtype: int64"
      ]
     },
     "execution_count": 9,
     "metadata": {},
     "output_type": "execute_result"
    }
   ],
   "source": [
    "actualInput.groupby('male_or_female')['name'].count()"
   ]
  },
  {
   "cell_type": "code",
   "execution_count": 10,
   "metadata": {},
   "outputs": [],
   "source": [
    "names = input['name']\n",
    "gender = input['male_or_female']\n",
    "vocab = set(' '.join([str(i) for i in names ]))\n",
    "vocab.add('END')\n",
    "lenOfVocab = len(vocab)"
   ]
  },
  {
   "cell_type": "code",
   "execution_count": 11,
   "metadata": {},
   "outputs": [
    {
     "name": "stdout",
     "output_type": "stream",
     "text": [
      "{'e', '4', 'x', '9', 'b', 'p', '.', 'q', '7', 'd', '6', '8', 'z', 'w', 'r', 'k', 'y', '3', 'j', 'n', 'c', 'g', ' ', 'l', 'u', '1', 't', 'a', '0', 'm', '5', 'f', '2', 'o', 'END', 'i', 'v', 's', 'h'}\n",
      "Length of vocab is  39\n",
      "Lenght of input is  15226\n"
     ]
    }
   ],
   "source": [
    "print(vocab)\n",
    "print('Length of vocab is ', lenOfVocab)\n",
    "print('Lenght of input is ', len(actualInput))"
   ]
  },
  {
   "cell_type": "code",
   "execution_count": 12,
   "metadata": {},
   "outputs": [],
   "source": [
    "charIndex = dict((c, i) for i, c in enumerate(vocab))"
   ]
  },
  {
   "cell_type": "code",
   "execution_count": 14,
   "metadata": {},
   "outputs": [
    {
     "name": "stdout",
     "output_type": "stream",
     "text": [
      "{'e': 0, '4': 1, 'x': 2, '9': 3, 'b': 4, 'p': 5, '.': 6, 'q': 7, '7': 8, 'd': 9, '6': 10, '8': 11, 'z': 12, 'w': 13, 'r': 14, 'k': 15, 'y': 16, '3': 17, 'j': 18, 'n': 19, 'c': 20, 'g': 21, ' ': 22, 'l': 23, 'u': 24, '1': 25, 't': 26, 'a': 27, '0': 28, 'm': 29, '5': 30, 'f': 31, '2': 32, 'o': 33, 'END': 34, 'i': 35, 'v': 36, 's': 37, 'h': 38}\n"
     ]
    }
   ],
   "source": [
    "print(charIndex)"
   ]
  },
  {
   "cell_type": "code",
   "execution_count": 15,
   "metadata": {},
   "outputs": [],
   "source": [
    "# train test split\n",
    "msk = np.random.rand(len(actualInput)) < 0.8\n",
    "train = actualInput[msk]\n",
    "test = actualInput[~msk]"
   ]
  },
  {
   "cell_type": "code",
   "execution_count": 18,
   "metadata": {},
   "outputs": [],
   "source": [
    "train_X = []\n",
    "trunc_train_name = [str(i)[0:30] for i in train.name]"
   ]
  },
  {
   "cell_type": "code",
   "execution_count": 19,
   "metadata": {},
   "outputs": [
    {
     "name": "stdout",
     "output_type": "stream",
     "text": [
      "12196\n"
     ]
    }
   ],
   "source": [
    "print(len(trunc_train_name))"
   ]
  },
  {
   "cell_type": "code",
   "execution_count": 20,
   "metadata": {},
   "outputs": [],
   "source": [
    "for i in trunc_train_name:\n",
    "    tmp = [charIndex[j] for j in str(i)]\n",
    "    for k in range(0,maxlen - len(str(i))):\n",
    "        tmp.append(charIndex[\"END\"])\n",
    "    train_X.append(tmp)"
   ]
  },
  {
   "cell_type": "code",
   "execution_count": 21,
   "metadata": {},
   "outputs": [
    {
     "data": {
      "text/plain": [
       "(12196, 30)"
      ]
     },
     "execution_count": 21,
     "metadata": {},
     "output_type": "execute_result"
    }
   ],
   "source": [
    "np.asarray(train_X).shape"
   ]
  },
  {
   "cell_type": "code",
   "execution_count": 22,
   "metadata": {},
   "outputs": [],
   "source": [
    "def setFlag(i):\n",
    "    temp = np.zeros(39)\n",
    "    temp[i] = 1\n",
    "    return temp"
   ]
  },
  {
   "cell_type": "code",
   "execution_count": 23,
   "metadata": {},
   "outputs": [
    {
     "data": {
      "text/plain": [
       "array([0., 0., 0., 1., 0., 0., 0., 0., 0., 0., 0., 0., 0., 0., 0., 0., 0.,\n",
       "       0., 0., 0., 0., 0., 0., 0., 0., 0., 0., 0., 0., 0., 0., 0., 0., 0.,\n",
       "       0., 0., 0., 0., 0.])"
      ]
     },
     "execution_count": 23,
     "metadata": {},
     "output_type": "execute_result"
    }
   ],
   "source": [
    "setFlag(3)"
   ]
  },
  {
   "cell_type": "code",
   "execution_count": 24,
   "metadata": {},
   "outputs": [],
   "source": [
    "train_X = []\n",
    "train_Y = []\n",
    "trunc_train_name = [str(i)[0:maxlen] for i in train.name]\n",
    "\n",
    "for i in trunc_train_name:\n",
    "    tmp = [setFlag(charIndex[j]) for j in str(i)]\n",
    "    for k in range(0, maxlen - len(str(i))):\n",
    "        tmp.append(setFlag(charIndex[\"END\"]))\n",
    "    train_X.append(tmp)\n",
    "    \n",
    "for i in train.male_or_female:\n",
    "    if i == 'm':\n",
    "        train_Y.append([1, 0])\n",
    "    else:\n",
    "        train_Y.append([0, 1])\n"
   ]
  },
  {
   "cell_type": "code",
   "execution_count": 25,
   "metadata": {},
   "outputs": [
    {
     "data": {
      "text/plain": [
       "(12196, 30, 39)"
      ]
     },
     "execution_count": 25,
     "metadata": {},
     "output_type": "execute_result"
    }
   ],
   "source": [
    "np.asarray(train_X).shape"
   ]
  },
  {
   "cell_type": "code",
   "execution_count": 26,
   "metadata": {},
   "outputs": [
    {
     "data": {
      "text/plain": [
       "(12196, 2)"
      ]
     },
     "execution_count": 26,
     "metadata": {},
     "output_type": "execute_result"
    }
   ],
   "source": [
    "np.asarray(train_Y).shape"
   ]
  },
  {
   "cell_type": "code",
   "execution_count": 29,
   "metadata": {},
   "outputs": [],
   "source": [
    "# Build the model: 2 stacked LSTM\n",
    "model = keras.Sequential()\n",
    "model.add(keras.layers.LSTM(512, return_sequences=True, input_shape=(maxlen, lenOfVocab)))\n",
    "model.add(keras.layers.Dropout(0.2))\n",
    "model.add(keras.layers.LSTM(512, return_sequences=False))\n",
    "model.add(keras.layers.Dropout(0.2))\n",
    "model.add(keras.layers.Dense(2))\n",
    "model.add(keras.layers.Activation('softmax'))"
   ]
  },
  {
   "cell_type": "code",
   "execution_count": 30,
   "metadata": {},
   "outputs": [],
   "source": [
    "# Compile the model\n",
    "model.compile(loss='categorical_crossentropy',\n",
    "             optimizer='adam',\n",
    "             metrics=['accuracy'])"
   ]
  },
  {
   "cell_type": "code",
   "execution_count": 31,
   "metadata": {},
   "outputs": [],
   "source": [
    "test_X = []\n",
    "test_Y = []\n",
    "trunc_test_name = [str(i)[0:maxlen] for i in test.name]\n",
    "\n",
    "for i in trunc_test_name:\n",
    "    tmp = [setFlag(charIndex[j]) for j in str(i)]\n",
    "    for k in range(0, maxlen - len(str(i))):\n",
    "        tmp.append(setFlag(charIndex[\"END\"]))\n",
    "    test_X.append(tmp)\n",
    "\n",
    "for i in test.male_or_female:\n",
    "    if i == 'm':\n",
    "        test_Y.append([1, 0])\n",
    "    else:\n",
    "        test_Y.append([0, 1])\n"
   ]
  },
  {
   "cell_type": "code",
   "execution_count": 32,
   "metadata": {},
   "outputs": [
    {
     "data": {
      "text/plain": [
       "(3030, 30, 39)"
      ]
     },
     "execution_count": 32,
     "metadata": {},
     "output_type": "execute_result"
    }
   ],
   "source": [
    "np.asarray(test_X).shape"
   ]
  },
  {
   "cell_type": "code",
   "execution_count": 33,
   "metadata": {},
   "outputs": [
    {
     "name": "stdout",
     "output_type": "stream",
     "text": [
      "(3030, 30, 39)\n",
      "(3030, 2)\n"
     ]
    }
   ],
   "source": [
    "\n",
    "print(np.asarray(test_X).shape)\n",
    "print(np.asarray(test_Y).shape)"
   ]
  },
  {
   "cell_type": "code",
   "execution_count": 34,
   "metadata": {},
   "outputs": [
    {
     "name": "stdout",
     "output_type": "stream",
     "text": [
      "Train on 12196 samples, validate on 3030 samples\n",
      "Epoch 1/10\n",
      "12196/12196 [==============================] - 154s 13ms/step - loss: 0.6882 - acc: 0.5566 - val_loss: 0.6718 - val_acc: 0.5677\n",
      "Epoch 2/10\n",
      "12196/12196 [==============================] - 148s 12ms/step - loss: 0.6407 - acc: 0.6272 - val_loss: 0.5850 - val_acc: 0.6815\n",
      "Epoch 3/10\n",
      "12196/12196 [==============================] - 148s 12ms/step - loss: 0.5932 - acc: 0.6852 - val_loss: 0.5550 - val_acc: 0.7277\n",
      "Epoch 4/10\n",
      "12196/12196 [==============================] - 148s 12ms/step - loss: 0.5385 - acc: 0.7302 - val_loss: 0.5090 - val_acc: 0.7597\n",
      "Epoch 5/10\n",
      "12196/12196 [==============================] - 150s 12ms/step - loss: 0.5247 - acc: 0.7443 - val_loss: 0.5004 - val_acc: 0.7571\n",
      "Epoch 6/10\n",
      "12196/12196 [==============================] - 148s 12ms/step - loss: 0.5102 - acc: 0.7500 - val_loss: 0.5063 - val_acc: 0.7551\n",
      "Epoch 7/10\n",
      "12196/12196 [==============================] - 151s 12ms/step - loss: 0.4997 - acc: 0.7564 - val_loss: 0.4942 - val_acc: 0.7657\n",
      "Epoch 8/10\n",
      "12196/12196 [==============================] - 148s 12ms/step - loss: 0.4858 - acc: 0.7681 - val_loss: 0.5276 - val_acc: 0.7422\n",
      "Epoch 9/10\n",
      "12196/12196 [==============================] - 149s 12ms/step - loss: 0.4929 - acc: 0.7628 - val_loss: 0.4749 - val_acc: 0.7706\n",
      "Epoch 10/10\n",
      "12196/12196 [==============================] - 151s 12ms/step - loss: 0.4748 - acc: 0.7755 - val_loss: 0.4679 - val_acc: 0.7789\n"
     ]
    },
    {
     "data": {
      "text/plain": [
       "<tensorflow.python.keras.callbacks.History at 0x120e91518>"
      ]
     },
     "execution_count": 34,
     "metadata": {},
     "output_type": "execute_result"
    }
   ],
   "source": [
    "batch_size=1000\n",
    "model.fit(np.array(train_X), np.array(train_Y),batch_size=batch_size, epochs=10,validation_data=(np.array(test_X), np.array(test_Y)))"
   ]
  },
  {
   "cell_type": "code",
   "execution_count": 35,
   "metadata": {},
   "outputs": [
    {
     "name": "stdout",
     "output_type": "stream",
     "text": [
      "3030/3030 [==============================] - 25s 8ms/step\n",
      "Test score: 0.4679110310652075\n",
      "Test accuracy: 0.7788778876314069\n"
     ]
    }
   ],
   "source": [
    "score, acc = model.evaluate(np.array(test_X), np.array(test_Y))\n",
    "print('Test score:', score)\n",
    "print('Test accuracy:', acc)"
   ]
  },
  {
   "cell_type": "code",
   "execution_count": 37,
   "metadata": {},
   "outputs": [],
   "source": [
    "name = ['anandhan', 'priya', 'chandru', 'sarathi', 'santhya']\n",
    "X = []\n",
    "trunc_name = [i[0:maxlen] for i in name]\n",
    "for i in trunc_name:\n",
    "    tmp = [setFlag(charIndex[j]) for j in str(i)]\n",
    "    for k in range(0, maxlen - len(str(i))):\n",
    "        tmp.append(setFlag(charIndex[\"END\"]))\n",
    "    X.append(tmp)\n",
    "predictions = model.predict(np.asarray(X))\n",
    "           "
   ]
  },
  {
   "cell_type": "code",
   "execution_count": 39,
   "metadata": {},
   "outputs": [
    {
     "data": {
      "text/plain": [
       "array([[0.662015  , 0.337985  ],\n",
       "       [0.13195457, 0.86804545],\n",
       "       [0.7649355 , 0.23506448],\n",
       "       [0.15344869, 0.8465513 ],\n",
       "       [0.4765105 , 0.52348953]], dtype=float32)"
      ]
     },
     "execution_count": 39,
     "metadata": {},
     "output_type": "execute_result"
    }
   ],
   "source": [
    "predictions"
   ]
  },
  {
   "cell_type": "code",
   "execution_count": 40,
   "metadata": {},
   "outputs": [
    {
     "name": "stdout",
     "output_type": "stream",
     "text": [
      "Train on 12196 samples, validate on 3030 samples\n",
      "Epoch 1/50\n",
      "12196/12196 [==============================] - 156s 13ms/step - loss: 0.4651 - acc: 0.7844 - val_loss: 0.4558 - val_acc: 0.7917\n",
      "Epoch 2/50\n",
      "12196/12196 [==============================] - 160s 13ms/step - loss: 0.4579 - acc: 0.7876 - val_loss: 0.4504 - val_acc: 0.7983\n",
      "Epoch 3/50\n",
      "12196/12196 [==============================] - 177s 15ms/step - loss: 0.4520 - acc: 0.7957 - val_loss: 0.4430 - val_acc: 0.7917\n",
      "Epoch 4/50\n",
      "12196/12196 [==============================] - 178s 15ms/step - loss: 0.4472 - acc: 0.7937 - val_loss: 0.4443 - val_acc: 0.7931\n",
      "Epoch 5/50\n",
      "12196/12196 [==============================] - 155s 13ms/step - loss: 0.4355 - acc: 0.8037 - val_loss: 0.4233 - val_acc: 0.8112\n",
      "Epoch 6/50\n",
      "12196/12196 [==============================] - 162s 13ms/step - loss: 0.4163 - acc: 0.8131 - val_loss: 0.4185 - val_acc: 0.8099\n",
      "Epoch 7/50\n",
      "12196/12196 [==============================] - 153s 13ms/step - loss: 0.4074 - acc: 0.8227 - val_loss: 0.4108 - val_acc: 0.8215\n",
      "Epoch 8/50\n",
      "12196/12196 [==============================] - 151s 12ms/step - loss: 0.3940 - acc: 0.8299 - val_loss: 0.3848 - val_acc: 0.8317\n",
      "Epoch 9/50\n",
      "12196/12196 [==============================] - 152s 12ms/step - loss: 0.3749 - acc: 0.8380 - val_loss: 0.4185 - val_acc: 0.8119\n",
      "Epoch 10/50\n",
      "12196/12196 [==============================] - 151s 12ms/step - loss: 0.3719 - acc: 0.8380 - val_loss: 0.3923 - val_acc: 0.8373\n",
      "Epoch 11/50\n",
      "12196/12196 [==============================] - 4332s 355ms/step - loss: 0.3532 - acc: 0.8515 - val_loss: 0.3536 - val_acc: 0.8508\n",
      "Epoch 12/50\n",
      "12196/12196 [==============================] - 217s 18ms/step - loss: 0.3379 - acc: 0.8609 - val_loss: 0.3558 - val_acc: 0.8531\n",
      "Epoch 13/50\n",
      "12196/12196 [==============================] - 273s 22ms/step - loss: 0.3361 - acc: 0.8584 - val_loss: 0.3511 - val_acc: 0.8505\n",
      "Epoch 14/50\n",
      "12196/12196 [==============================] - 290s 24ms/step - loss: 0.3204 - acc: 0.8688 - val_loss: 0.3820 - val_acc: 0.8432\n",
      "Epoch 15/50\n",
      "12196/12196 [==============================] - 289s 24ms/step - loss: 0.3290 - acc: 0.8654 - val_loss: 0.3494 - val_acc: 0.8482\n",
      "Epoch 16/50\n",
      "12196/12196 [==============================] - 282s 23ms/step - loss: 0.3261 - acc: 0.8657 - val_loss: 0.3376 - val_acc: 0.8597\n",
      "Epoch 17/50\n",
      "12196/12196 [==============================] - 278s 23ms/step - loss: 0.3077 - acc: 0.8721 - val_loss: 0.3306 - val_acc: 0.8571\n",
      "Epoch 18/50\n",
      "12196/12196 [==============================] - 281s 23ms/step - loss: 0.3047 - acc: 0.8751 - val_loss: 0.3294 - val_acc: 0.8670\n",
      "Epoch 19/50\n",
      "12196/12196 [==============================] - 282s 23ms/step - loss: 0.2930 - acc: 0.8787 - val_loss: 0.3215 - val_acc: 0.8703\n",
      "Epoch 20/50\n",
      "12196/12196 [==============================] - 285s 23ms/step - loss: 0.2925 - acc: 0.8836 - val_loss: 0.3129 - val_acc: 0.8723\n",
      "Epoch 21/50\n",
      "12196/12196 [==============================] - 285s 23ms/step - loss: 0.2893 - acc: 0.8860 - val_loss: 0.3272 - val_acc: 0.8680\n",
      "Epoch 22/50\n",
      "12196/12196 [==============================] - 284s 23ms/step - loss: 0.2800 - acc: 0.8864 - val_loss: 0.3109 - val_acc: 0.8762\n",
      "Epoch 23/50\n",
      "12196/12196 [==============================] - 284s 23ms/step - loss: 0.2744 - acc: 0.8910 - val_loss: 0.3153 - val_acc: 0.8729\n",
      "Epoch 24/50\n",
      "12196/12196 [==============================] - 285s 23ms/step - loss: 0.2689 - acc: 0.8941 - val_loss: 0.3264 - val_acc: 0.8703\n",
      "Epoch 25/50\n",
      "12196/12196 [==============================] - 287s 23ms/step - loss: 0.2741 - acc: 0.8915 - val_loss: 0.3177 - val_acc: 0.8759\n",
      "Epoch 26/50\n",
      "12196/12196 [==============================] - 286s 23ms/step - loss: 0.2776 - acc: 0.8880 - val_loss: 0.3120 - val_acc: 0.8772\n",
      "Epoch 27/50\n",
      "12196/12196 [==============================] - 287s 24ms/step - loss: 0.2666 - acc: 0.8949 - val_loss: 0.2969 - val_acc: 0.8848\n",
      "Epoch 28/50\n",
      "12196/12196 [==============================] - 286s 23ms/step - loss: 0.2601 - acc: 0.8989 - val_loss: 0.3128 - val_acc: 0.8779\n",
      "Epoch 29/50\n",
      "12196/12196 [==============================] - 286s 23ms/step - loss: 0.2513 - acc: 0.8993 - val_loss: 0.3185 - val_acc: 0.8733\n",
      "Epoch 30/50\n",
      "12196/12196 [==============================] - 286s 23ms/step - loss: 0.2560 - acc: 0.9000 - val_loss: 0.3029 - val_acc: 0.8818\n",
      "Epoch 31/50\n",
      "12196/12196 [==============================] - 287s 23ms/step - loss: 0.2467 - acc: 0.9035 - val_loss: 0.3046 - val_acc: 0.8779\n",
      "Epoch 32/50\n",
      "12196/12196 [==============================] - 287s 23ms/step - loss: 0.2486 - acc: 0.9006 - val_loss: 0.2995 - val_acc: 0.8795\n",
      "Epoch 33/50\n",
      "12196/12196 [==============================] - 287s 24ms/step - loss: 0.2510 - acc: 0.9009 - val_loss: 0.3169 - val_acc: 0.8769\n",
      "Epoch 34/50\n",
      "12196/12196 [==============================] - 286s 23ms/step - loss: 0.2509 - acc: 0.9006 - val_loss: 0.3022 - val_acc: 0.8822\n",
      "Epoch 35/50\n",
      "12196/12196 [==============================] - 286s 23ms/step - loss: 0.2363 - acc: 0.9082 - val_loss: 0.3128 - val_acc: 0.8802\n",
      "Epoch 36/50\n",
      "12196/12196 [==============================] - 286s 23ms/step - loss: 0.2370 - acc: 0.9068 - val_loss: 0.2959 - val_acc: 0.8881\n",
      "Epoch 37/50\n",
      "12196/12196 [==============================] - 286s 23ms/step - loss: 0.2305 - acc: 0.9110 - val_loss: 0.3568 - val_acc: 0.8809\n",
      "Epoch 38/50\n",
      "12196/12196 [==============================] - 287s 23ms/step - loss: 0.2237 - acc: 0.9169 - val_loss: 0.3170 - val_acc: 0.8762\n",
      "Epoch 39/50\n",
      "12196/12196 [==============================] - 286s 23ms/step - loss: 0.2145 - acc: 0.9185 - val_loss: 0.3184 - val_acc: 0.8825\n",
      "Epoch 40/50\n",
      "12196/12196 [==============================] - 286s 23ms/step - loss: 0.2162 - acc: 0.9166 - val_loss: 0.3113 - val_acc: 0.8809\n",
      "Epoch 41/50\n",
      "12196/12196 [==============================] - 285s 23ms/step - loss: 0.2141 - acc: 0.9170 - val_loss: 0.3270 - val_acc: 0.8825\n",
      "Epoch 42/50\n",
      "12196/12196 [==============================] - 284s 23ms/step - loss: 0.2204 - acc: 0.9160 - val_loss: 0.3075 - val_acc: 0.8848\n",
      "Epoch 43/50\n",
      "12196/12196 [==============================] - 283s 23ms/step - loss: 0.1995 - acc: 0.9243 - val_loss: 0.3153 - val_acc: 0.8898\n",
      "Epoch 44/50\n",
      "12196/12196 [==============================] - 285s 23ms/step - loss: 0.1954 - acc: 0.9246 - val_loss: 0.3089 - val_acc: 0.8815\n",
      "Epoch 45/50\n",
      "12196/12196 [==============================] - 284s 23ms/step - loss: 0.1931 - acc: 0.9259 - val_loss: 0.3089 - val_acc: 0.8865\n",
      "Epoch 46/50\n",
      "12196/12196 [==============================] - 284s 23ms/step - loss: 0.1972 - acc: 0.9269 - val_loss: 0.3240 - val_acc: 0.8848\n",
      "Epoch 47/50\n",
      "12196/12196 [==============================] - 283s 23ms/step - loss: 0.1882 - acc: 0.9296 - val_loss: 0.3493 - val_acc: 0.8861\n",
      "Epoch 48/50\n",
      "12196/12196 [==============================] - 280s 23ms/step - loss: 0.1973 - acc: 0.9252 - val_loss: 0.3114 - val_acc: 0.8828\n",
      "Epoch 49/50\n",
      "12196/12196 [==============================] - 281s 23ms/step - loss: 0.1885 - acc: 0.9288 - val_loss: 0.3148 - val_acc: 0.8861\n",
      "Epoch 50/50\n",
      "12196/12196 [==============================] - 283s 23ms/step - loss: 0.1816 - acc: 0.9319 - val_loss: 0.3435 - val_acc: 0.8838\n"
     ]
    },
    {
     "data": {
      "text/plain": [
       "<tensorflow.python.keras.callbacks.History at 0x13151fd68>"
      ]
     },
     "execution_count": 40,
     "metadata": {},
     "output_type": "execute_result"
    }
   ],
   "source": [
    "batch_size = 1000\n",
    "model.fit(np.array(train_X), np.array(train_Y), batch_size=batch_size, epochs=50, validation_data=(np.array(test_X), np.array(test_Y)) ) "
   ]
  },
  {
   "cell_type": "code",
   "execution_count": 41,
   "metadata": {},
   "outputs": [
    {
     "name": "stdout",
     "output_type": "stream",
     "text": [
      "3030/3030 [==============================] - 29s 9ms/step\n",
      "Test score: 0.3434886864703087\n",
      "Test accuracy: 0.8838283829169699\n"
     ]
    }
   ],
   "source": [
    "score, acc = model.evaluate(np.array(test_X), np.array(test_Y))\n",
    "print('Test score:', score)\n",
    "print('Test accuracy:', acc)"
   ]
  },
  {
   "cell_type": "code",
   "execution_count": 42,
   "metadata": {},
   "outputs": [
    {
     "data": {
      "text/plain": [
       "array([[0.0616538 , 0.93834627],\n",
       "       [0.09346944, 0.9065306 ],\n",
       "       [0.96234685, 0.03765318],\n",
       "       [0.04838698, 0.95161307],\n",
       "       [0.00319322, 0.99680686],\n",
       "       [0.98605204, 0.01394794],\n",
       "       [0.00693881, 0.9930611 ],\n",
       "       [0.25296992, 0.74703   ],\n",
       "       [0.00792741, 0.99207264]], dtype=float32)"
      ]
     },
     "execution_count": 42,
     "metadata": {},
     "output_type": "execute_result"
    }
   ],
   "source": [
    "\n",
    "name=[\"sandhya\",\"jaspreet\",\"rajesh\",\"kaveri\",\"aditi deepak\",\"arihant\",\"sasikala\",\"aditi\",\"ragini rajaram\"]\n",
    "X=[]\n",
    "trunc_name = [i[0:maxlen] for i in name]\n",
    "for i in trunc_name:\n",
    "    tmp = [setFlag(charIndex[j]) for j in str(i)]\n",
    "    for k in range(0,maxlen - len(str(i))):\n",
    "        tmp.append(setFlag(charIndex[\"END\"]))\n",
    "    X.append(tmp)\n",
    "pred=model.predict(np.asarray(X))\n",
    "pred"
   ]
  },
  {
   "cell_type": "code",
   "execution_count": 43,
   "metadata": {},
   "outputs": [
    {
     "data": {
      "text/plain": [
       "array([[0.23649578, 0.7635042 ],\n",
       "       [0.08896113, 0.9110389 ],\n",
       "       [0.99321437, 0.0067856 ]], dtype=float32)"
      ]
     },
     "execution_count": 43,
     "metadata": {},
     "output_type": "execute_result"
    }
   ],
   "source": [
    "\n",
    "name=[\"abhi\",\"abhi deepak\",\"mr. abhi\"]\n",
    "X=[]\n",
    "trunc_name = [i[0:maxlen] for i in name]\n",
    "for i in trunc_name:\n",
    "    tmp = [setFlag(charIndex[j]) for j in str(i)]\n",
    "    for k in range(0,maxlen - len(str(i))):\n",
    "        tmp.append(setFlag(charIndex[\"END\"]))\n",
    "    X.append(tmp)\n",
    "pred=model.predict(np.asarray(X))\n",
    "pred"
   ]
  },
  {
   "cell_type": "code",
   "execution_count": 44,
   "metadata": {},
   "outputs": [
    {
     "data": {
      "text/plain": [
       "array([[0.02565806, 0.974342  ],\n",
       "       [0.9927898 , 0.00721019],\n",
       "       [0.97167814, 0.02832186]], dtype=float32)"
      ]
     },
     "execution_count": 44,
     "metadata": {},
     "output_type": "execute_result"
    }
   ],
   "source": [
    "name=[\"rajini\",\"rajinikanth\",\"mr. rajini\"]\n",
    "X=[]\n",
    "trunc_name = [i[0:maxlen] for i in name]\n",
    "for i in trunc_name:\n",
    "    tmp = [setFlag(charIndex[j]) for j in str(i)]\n",
    "    for k in range(0,maxlen - len(str(i))):\n",
    "        tmp.append(setFlag(charIndex[\"END\"]))\n",
    "    X.append(tmp)\n",
    "pred=model.predict(np.asarray(X))\n",
    "pred"
   ]
  },
  {
   "cell_type": "code",
   "execution_count": 45,
   "metadata": {},
   "outputs": [],
   "source": [
    "#save our model and data\n",
    "# model.save_weights('gender_model',overwrite=True)\n",
    "model.save('gender_model',overwrite=True)\n",
    "# train.to_csv(\"train_split.csv\")\n",
    "# test.to_csv(\"test_split.csv\")"
   ]
  },
  {
   "cell_type": "code",
   "execution_count": 46,
   "metadata": {},
   "outputs": [],
   "source": [
    "train.to_csv(\"train_split.csv\")\n",
    "test.to_csv(\"test_split.csv\")"
   ]
  },
  {
   "cell_type": "code",
   "execution_count": 47,
   "metadata": {},
   "outputs": [],
   "source": [
    "evals = model.predict(np.array(test_X))\n",
    "prob_m = [i[0] for i in evals]"
   ]
  },
  {
   "cell_type": "code",
   "execution_count": 48,
   "metadata": {},
   "outputs": [],
   "source": [
    "out = pd.DataFrame(prob_m)\n",
    "out['name'] = test.name.reset_index()['name']\n",
    "out['male_or_female']=test.male_or_female.reset_index()['male_or_female']"
   ]
  },
  {
   "cell_type": "code",
   "execution_count": 49,
   "metadata": {},
   "outputs": [],
   "source": [
    "out.head(10)\n",
    "out.columns = ['prob_m','name','actual']\n",
    "out.head(10)\n",
    "out.to_csv(\"gender_pred_out.csv\")"
   ]
  }
 ],
 "metadata": {
  "kernelspec": {
   "display_name": "Python 3",
   "language": "python",
   "name": "python3"
  },
  "language_info": {
   "codemirror_mode": {
    "name": "ipython",
    "version": 3
   },
   "file_extension": ".py",
   "mimetype": "text/x-python",
   "name": "python",
   "nbconvert_exporter": "python",
   "pygments_lexer": "ipython3",
   "version": "3.6.8"
  }
 },
 "nbformat": 4,
 "nbformat_minor": 2
}
